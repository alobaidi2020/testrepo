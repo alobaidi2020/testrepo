{
 "cells": [
  {
   "cell_type": "markdown",
   "id": "61d06dea-8f13-4c9d-ae02-31c76a025204",
   "metadata": {},
   "source": [
    "# Data Sciense Tools and Echosystem"
   ]
  },
  {
   "cell_type": "markdown",
   "id": "de8c157f-013a-4298-97a9-f823f9645113",
   "metadata": {},
   "source": [
    "# In this notebook, Data Science Tools and Ecosystem are summarized"
   ]
  },
  {
   "cell_type": "markdown",
   "id": "52181b57-af9e-48f8-9447-f747ac2f8aac",
   "metadata": {},
   "source": [
    "**Objectives:**\n",
    "* List popular languages for Data Science.\n",
    "* Some of the commonly used libraries used by Data Scientists.\n",
    "* Data Science Tools and Ecosystem\n"
   ]
  },
  {
   "cell_type": "markdown",
   "id": "bd072155-de5f-4af6-93b0-8172fcd88159",
   "metadata": {},
   "source": [
    "Some of the popular languages that Data Scientists use are:\n",
    "1. Python\n",
    "2. SQL\n",
    "3. R\n",
    "4. SAS"
   ]
  },
  {
   "cell_type": "markdown",
   "id": "d44fb2cf-7ff2-4a2c-bd10-1f79c77c38e3",
   "metadata": {},
   "source": [
    "Some of the commonly used libraries used by Data Scientists include:\n",
    "1. ggplot\n",
    "2. NumPy\n",
    "3. Pandas\n",
    "4. Matplotlib\n",
    "5. TensorFlow\n",
    "6. Scikit-learn"
   ]
  },
  {
   "cell_type": "markdown",
   "id": "4ba2378c-6514-4061-8835-5689dc2ee2a1",
   "metadata": {},
   "source": [
    "|Data Science Tools|\n",
    "|------------------|\n",
    "|pandas            |\n",
    "|Jupyter Notebooks |\n",
    "|MLFlow            |"
   ]
  },
  {
   "cell_type": "markdown",
   "id": "d52709c7-3c8d-4ec7-9dac-83e681c52644",
   "metadata": {},
   "source": [
    "### Below are a few examples of evaluating arithmetic expressions in Python"
   ]
  },
  {
   "cell_type": "code",
   "execution_count": 2,
   "id": "81ab8f6d-f5f4-4315-a028-69220b954162",
   "metadata": {},
   "outputs": [
    {
     "data": {
      "text/plain": [
       "17"
      ]
     },
     "execution_count": 2,
     "metadata": {},
     "output_type": "execute_result"
    }
   ],
   "source": [
    "# This a simple arithmetic expression to mutiply then add integers\n",
    "(3*4)+5"
   ]
  },
  {
   "cell_type": "code",
   "execution_count": 3,
   "id": "521a7acc-85fe-4221-a0e4-814d17ea3ce1",
   "metadata": {},
   "outputs": [
    {
     "data": {
      "text/plain": [
       "3.3333333333333335"
      ]
     },
     "execution_count": 3,
     "metadata": {},
     "output_type": "execute_result"
    }
   ],
   "source": [
    "# This will convert 200 minutes to hours by diving by 60\n",
    "200/60"
   ]
  },
  {
   "cell_type": "markdown",
   "id": "71e64a87-1e84-4e7c-9c7a-e6f8f335acf7",
   "metadata": {},
   "source": [
    "## Author: Redwan Alobaidi"
   ]
  },
  {
   "cell_type": "code",
   "execution_count": null,
   "id": "d8159e34-f15c-4be2-87e7-b029d6c46326",
   "metadata": {},
   "outputs": [],
   "source": []
  }
 ],
 "metadata": {
  "kernelspec": {
   "display_name": "Python [conda env:base] *",
   "language": "python",
   "name": "conda-base-py"
  },
  "language_info": {
   "codemirror_mode": {
    "name": "ipython",
    "version": 3
   },
   "file_extension": ".py",
   "mimetype": "text/x-python",
   "name": "python",
   "nbconvert_exporter": "python",
   "pygments_lexer": "ipython3",
   "version": "3.12.7"
  }
 },
 "nbformat": 4,
 "nbformat_minor": 5
}
